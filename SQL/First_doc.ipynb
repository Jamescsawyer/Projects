{
 "cells": [
  {
   "attachments": {},
   "cell_type": "markdown",
   "metadata": {},
   "source": [
    "Python / SQL workbook"
   ]
  },
  {
   "attachments": {},
   "cell_type": "markdown",
   "metadata": {},
   "source": [
    "To open a new workbook, click view --> command palette --> \"create new notebook\""
   ]
  },
  {
   "attachments": {},
   "cell_type": "markdown",
   "metadata": {},
   "source": [
    "Trying to commit\n",
    "Test changes\n",
    "\n",
    "\n",
    "YOU SHOULD HAVE A CONTEXT ON SQL - WATCH A YOUTUBE VIDEO FOR THIS AND WRITE UP\n",
    "\n",
    "What is postgreSQL\n",
    "Microsoft vs other \n",
    "Different software e.g. tableplus\n",
    "How to get a sample DB"
   ]
  }
 ],
 "metadata": {
  "kernelspec": {
   "display_name": "Python 3",
   "language": "python",
   "name": "python3"
  },
  "language_info": {
   "name": "python",
   "version": "3.9.6"
  },
  "orig_nbformat": 4
 },
 "nbformat": 4,
 "nbformat_minor": 2
}
