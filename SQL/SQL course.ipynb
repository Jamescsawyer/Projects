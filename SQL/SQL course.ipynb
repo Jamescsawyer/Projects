{
 "cells": [
  {
   "cell_type": "code",
   "execution_count": 3,
   "metadata": {},
   "outputs": [
    {
     "name": "stdout",
     "output_type": "stream",
     "text": [
      "Requirement already satisfied: pip in /Applications/anaconda3/lib/python3.7/site-packages (20.3.3)\n",
      "Note: you may need to restart the kernel to use updated packages.\n"
     ]
    }
   ],
   "source": [
    "pip install --upgrade pip\n"
   ]
  },
  {
   "cell_type": "code",
   "execution_count": 13,
   "metadata": {},
   "outputs": [
    {
     "name": "stdout",
     "output_type": "stream",
     "text": [
      "Collecting package metadata (current_repodata.json): done\n",
      "Solving environment: done\n",
      "\n",
      "## Package Plan ##\n",
      "\n",
      "  environment location: /Applications/anaconda3\n",
      "\n",
      "  added / updated specs:\n",
      "    - ipython-sql\n",
      "\n",
      "\n",
      "The following packages will be downloaded:\n",
      "\n",
      "    package                    |            build\n",
      "    ---------------------------|-----------------\n",
      "    conda-4.9.2                |   py37hf985489_0         3.0 MB  conda-forge\n",
      "    ipython-sql-0.3.9          |py37hc8dfbb8_1002          27 KB  conda-forge\n",
      "    prettytable-2.0.0          |     pyhd8ed1ab_0          22 KB  conda-forge\n",
      "    python_abi-3.7             |          1_cp37m           4 KB  conda-forge\n",
      "    sqlparse-0.4.1             |     pyh9f0ad1d_0          34 KB  conda-forge\n",
      "    ------------------------------------------------------------\n",
      "                                           Total:         3.1 MB\n",
      "\n",
      "The following NEW packages will be INSTALLED:\n",
      "\n",
      "  ipython-sql        conda-forge/osx-64::ipython-sql-0.3.9-py37hc8dfbb8_1002\n",
      "  prettytable        conda-forge/noarch::prettytable-2.0.0-pyhd8ed1ab_0\n",
      "  python_abi         conda-forge/osx-64::python_abi-3.7-1_cp37m\n",
      "  sqlparse           conda-forge/noarch::sqlparse-0.4.1-pyh9f0ad1d_0\n",
      "\n",
      "The following packages will be SUPERSEDED by a higher-priority channel:\n",
      "\n",
      "  conda               pkgs/main::conda-4.9.2-py37hecd8cb5_0 --> conda-forge::conda-4.9.2-py37hf985489_0\n",
      "\n",
      "\n",
      "\n",
      "Downloading and Extracting Packages\n",
      "ipython-sql-0.3.9    | 27 KB     | ##################################### | 100% \n",
      "sqlparse-0.4.1       | 34 KB     | ##################################### | 100% \n",
      "prettytable-2.0.0    | 22 KB     | ##################################### | 100% \n",
      "python_abi-3.7       | 4 KB      | ##################################### | 100% \n",
      "conda-4.9.2          | 3.0 MB    | ##################################### | 100% \n",
      "Preparing transaction: done\n",
      "Verifying transaction: done\n",
      "Executing transaction: done\n"
     ]
    }
   ],
   "source": [
    "!conda install -yc conda-forge ipython-sql\n"
   ]
  },
  {
   "cell_type": "code",
   "execution_count": 14,
   "metadata": {},
   "outputs": [],
   "source": [
    "%load_ext sql\n"
   ]
  },
  {
   "cell_type": "code",
   "execution_count": 15,
   "metadata": {},
   "outputs": [
    {
     "data": {
      "text/plain": [
       "'Connected: @None'"
      ]
     },
     "execution_count": 15,
     "metadata": {},
     "output_type": "execute_result"
    }
   ],
   "source": [
    "%sql sqlite://\n"
   ]
  },
  {
   "cell_type": "code",
   "execution_count": 16,
   "metadata": {},
   "outputs": [
    {
     "name": "stdout",
     "output_type": "stream",
     "text": [
      " * sqlite://\n",
      "Done.\n",
      "6 rows affected.\n"
     ]
    },
    {
     "data": {
      "text/plain": [
       "[]"
      ]
     },
     "execution_count": 16,
     "metadata": {},
     "output_type": "execute_result"
    }
   ],
   "source": [
    "%%sql\n",
    "CREATE TABLE sales\n",
    "(\n",
    "    key       varchar(6),\n",
    "    ts        timestamp,\n",
    "    product   integer,\n",
    "    completed boolean,\n",
    "    price     float\n",
    ");\n",
    "INSERT INTO sales\n",
    "VALUES ('sale_1', '2019-11-08 00:00', 0, TRUE, 1.1),\n",
    "       ('sale_2', '2019-11-08 01:00', 0, FALSE, 1.2),\n",
    "       ('sale_3', '2019-11-08 01:00', 0, TRUE, 1.3),\n",
    "       ('sale_4', '2019-11-08 01:00', 1, FALSE, 1.4),\n",
    "       ('sale_5', '2019-11-08 02:00', 1, TRUE, 1.5),\n",
    "       ('sale_6', '2019-11-08 02:00', 1, TRUE, 1.5);"
   ]
  },
  {
   "cell_type": "code",
   "execution_count": 17,
   "metadata": {},
   "outputs": [
    {
     "name": "stdout",
     "output_type": "stream",
     "text": [
      " * sqlite://\n",
      "Done.\n"
     ]
    },
    {
     "data": {
      "text/html": [
       "<table>\n",
       "    <thead>\n",
       "        <tr>\n",
       "            <th>key</th>\n",
       "            <th>ts</th>\n",
       "            <th>product</th>\n",
       "            <th>completed</th>\n",
       "            <th>price</th>\n",
       "        </tr>\n",
       "    </thead>\n",
       "    <tbody>\n",
       "        <tr>\n",
       "            <td>sale_1</td>\n",
       "            <td>2019-11-08 00:00</td>\n",
       "            <td>0</td>\n",
       "            <td>1</td>\n",
       "            <td>1.1</td>\n",
       "        </tr>\n",
       "        <tr>\n",
       "            <td>sale_2</td>\n",
       "            <td>2019-11-08 01:00</td>\n",
       "            <td>0</td>\n",
       "            <td>0</td>\n",
       "            <td>1.2</td>\n",
       "        </tr>\n",
       "        <tr>\n",
       "            <td>sale_3</td>\n",
       "            <td>2019-11-08 01:00</td>\n",
       "            <td>0</td>\n",
       "            <td>1</td>\n",
       "            <td>1.3</td>\n",
       "        </tr>\n",
       "        <tr>\n",
       "            <td>sale_4</td>\n",
       "            <td>2019-11-08 01:00</td>\n",
       "            <td>1</td>\n",
       "            <td>0</td>\n",
       "            <td>1.4</td>\n",
       "        </tr>\n",
       "        <tr>\n",
       "            <td>sale_5</td>\n",
       "            <td>2019-11-08 02:00</td>\n",
       "            <td>1</td>\n",
       "            <td>1</td>\n",
       "            <td>1.5</td>\n",
       "        </tr>\n",
       "        <tr>\n",
       "            <td>sale_6</td>\n",
       "            <td>2019-11-08 02:00</td>\n",
       "            <td>1</td>\n",
       "            <td>1</td>\n",
       "            <td>1.5</td>\n",
       "        </tr>\n",
       "    </tbody>\n",
       "</table>"
      ],
      "text/plain": [
       "[('sale_1', '2019-11-08 00:00', 0, 1, 1.1),\n",
       " ('sale_2', '2019-11-08 01:00', 0, 0, 1.2),\n",
       " ('sale_3', '2019-11-08 01:00', 0, 1, 1.3),\n",
       " ('sale_4', '2019-11-08 01:00', 1, 0, 1.4),\n",
       " ('sale_5', '2019-11-08 02:00', 1, 1, 1.5),\n",
       " ('sale_6', '2019-11-08 02:00', 1, 1, 1.5)]"
      ]
     },
     "execution_count": 17,
     "metadata": {},
     "output_type": "execute_result"
    }
   ],
   "source": [
    "%%sql\n",
    "\n",
    "SELECT * FROM sales"
   ]
  },
  {
   "cell_type": "code",
   "execution_count": null,
   "metadata": {},
   "outputs": [],
   "source": [
    "#\n"
   ]
  }
 ],
 "metadata": {
  "kernelspec": {
   "display_name": "Python 3",
   "language": "python",
   "name": "python3"
  },
  "language_info": {
   "codemirror_mode": {
    "name": "ipython",
    "version": 3
   },
   "file_extension": ".py",
   "mimetype": "text/x-python",
   "name": "python",
   "nbconvert_exporter": "python",
   "pygments_lexer": "ipython3",
   "version": "3.7.4"
  }
 },
 "nbformat": 4,
 "nbformat_minor": 2
}
