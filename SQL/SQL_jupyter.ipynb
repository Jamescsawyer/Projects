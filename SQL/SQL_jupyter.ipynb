{
 "cells": [
  {
   "cell_type": "code",
   "execution_count": 7,
   "metadata": {},
   "outputs": [
    {
     "name": "stdout",
     "output_type": "stream",
     "text": [
      "Defaulting to user installation because normal site-packages is not writeable\n",
      "Collecting ipython-sql\n",
      "  Downloading ipython_sql-0.5.0-py3-none-any.whl (20 kB)\n",
      "Collecting prettytable (from ipython-sql)\n",
      "  Obtaining dependency information for prettytable from https://files.pythonhosted.org/packages/25/1e/4c284713b092ec384fad4399452f43f6446ad9aabc9c0b3c3c0920cc53b6/prettytable-3.8.0-py3-none-any.whl.metadata\n",
      "  Downloading prettytable-3.8.0-py3-none-any.whl.metadata (26 kB)\n",
      "Requirement already satisfied: ipython in /Users/jamescunningham-sawyer/Library/Python/3.9/lib/python/site-packages (from ipython-sql) (8.14.0)\n",
      "Collecting sqlalchemy>=2.0 (from ipython-sql)\n",
      "  Obtaining dependency information for sqlalchemy>=2.0 from https://files.pythonhosted.org/packages/07/04/ac0cb7e5164d9c6e27dd80c2031e9c0ee3763d0d9c12688ba5c98499d83e/SQLAlchemy-2.0.20-cp39-cp39-macosx_11_0_arm64.whl.metadata\n",
      "  Downloading SQLAlchemy-2.0.20-cp39-cp39-macosx_11_0_arm64.whl.metadata (9.4 kB)\n",
      "Collecting sqlparse (from ipython-sql)\n",
      "  Downloading sqlparse-0.4.4-py3-none-any.whl (41 kB)\n",
      "\u001b[2K     \u001b[90m━━━━━━━━━━━━━━━━━━━━━━━━━━━━━━━━━━━━━━━━\u001b[0m \u001b[32m41.2/41.2 kB\u001b[0m \u001b[31m4.9 MB/s\u001b[0m eta \u001b[36m0:00:00\u001b[0m\n",
      "\u001b[?25hRequirement already satisfied: six in /Library/Developer/CommandLineTools/Library/Frameworks/Python3.framework/Versions/3.9/lib/python3.9/site-packages (from ipython-sql) (1.15.0)\n",
      "Collecting ipython-genutils (from ipython-sql)\n",
      "  Downloading ipython_genutils-0.2.0-py2.py3-none-any.whl (26 kB)\n",
      "Requirement already satisfied: typing-extensions>=4.2.0 in /Users/jamescunningham-sawyer/Library/Python/3.9/lib/python/site-packages (from sqlalchemy>=2.0->ipython-sql) (4.7.1)\n",
      "Requirement already satisfied: backcall in /Users/jamescunningham-sawyer/Library/Python/3.9/lib/python/site-packages (from ipython->ipython-sql) (0.2.0)\n",
      "Requirement already satisfied: decorator in /Users/jamescunningham-sawyer/Library/Python/3.9/lib/python/site-packages (from ipython->ipython-sql) (5.1.1)\n",
      "Requirement already satisfied: jedi>=0.16 in /Users/jamescunningham-sawyer/Library/Python/3.9/lib/python/site-packages (from ipython->ipython-sql) (0.19.0)\n",
      "Requirement already satisfied: matplotlib-inline in /Users/jamescunningham-sawyer/Library/Python/3.9/lib/python/site-packages (from ipython->ipython-sql) (0.1.6)\n",
      "Requirement already satisfied: pickleshare in /Users/jamescunningham-sawyer/Library/Python/3.9/lib/python/site-packages (from ipython->ipython-sql) (0.7.5)\n",
      "Requirement already satisfied: prompt-toolkit!=3.0.37,<3.1.0,>=3.0.30 in /Users/jamescunningham-sawyer/Library/Python/3.9/lib/python/site-packages (from ipython->ipython-sql) (3.0.39)\n",
      "Requirement already satisfied: pygments>=2.4.0 in /Users/jamescunningham-sawyer/Library/Python/3.9/lib/python/site-packages (from ipython->ipython-sql) (2.16.1)\n",
      "Requirement already satisfied: stack-data in /Users/jamescunningham-sawyer/Library/Python/3.9/lib/python/site-packages (from ipython->ipython-sql) (0.6.2)\n",
      "Requirement already satisfied: traitlets>=5 in /Users/jamescunningham-sawyer/Library/Python/3.9/lib/python/site-packages (from ipython->ipython-sql) (5.9.0)\n",
      "Requirement already satisfied: pexpect>4.3 in /Users/jamescunningham-sawyer/Library/Python/3.9/lib/python/site-packages (from ipython->ipython-sql) (4.8.0)\n",
      "Requirement already satisfied: appnope in /Users/jamescunningham-sawyer/Library/Python/3.9/lib/python/site-packages (from ipython->ipython-sql) (0.1.3)\n",
      "Requirement already satisfied: wcwidth in /Users/jamescunningham-sawyer/Library/Python/3.9/lib/python/site-packages (from prettytable->ipython-sql) (0.2.6)\n",
      "Requirement already satisfied: parso<0.9.0,>=0.8.3 in /Users/jamescunningham-sawyer/Library/Python/3.9/lib/python/site-packages (from jedi>=0.16->ipython->ipython-sql) (0.8.3)\n",
      "Requirement already satisfied: ptyprocess>=0.5 in /Users/jamescunningham-sawyer/Library/Python/3.9/lib/python/site-packages (from pexpect>4.3->ipython->ipython-sql) (0.7.0)\n",
      "Requirement already satisfied: executing>=1.2.0 in /Users/jamescunningham-sawyer/Library/Python/3.9/lib/python/site-packages (from stack-data->ipython->ipython-sql) (1.2.0)\n",
      "Requirement already satisfied: asttokens>=2.1.0 in /Users/jamescunningham-sawyer/Library/Python/3.9/lib/python/site-packages (from stack-data->ipython->ipython-sql) (2.2.1)\n",
      "Requirement already satisfied: pure-eval in /Users/jamescunningham-sawyer/Library/Python/3.9/lib/python/site-packages (from stack-data->ipython->ipython-sql) (0.2.2)\n",
      "Downloading SQLAlchemy-2.0.20-cp39-cp39-macosx_11_0_arm64.whl (2.0 MB)\n",
      "\u001b[2K   \u001b[90m━━━━━━━━━━━━━━━━━━━━━━━━━━━━━━━━━━━━━━━━\u001b[0m \u001b[32m2.0/2.0 MB\u001b[0m \u001b[31m9.1 MB/s\u001b[0m eta \u001b[36m0:00:00\u001b[0ma \u001b[36m0:00:01\u001b[0mm\n",
      "\u001b[?25hDownloading prettytable-3.8.0-py3-none-any.whl (27 kB)\n",
      "Installing collected packages: ipython-genutils, sqlparse, sqlalchemy, prettytable, ipython-sql\n",
      "Successfully installed ipython-genutils-0.2.0 ipython-sql-0.5.0 prettytable-3.8.0 sqlalchemy-2.0.20 sqlparse-0.4.4\n"
     ]
    }
   ],
   "source": [
    "!pip install ipython-sql\n"
   ]
  },
  {
   "attachments": {},
   "cell_type": "markdown",
   "metadata": {},
   "source": [
    "Include these commands if working with these different libraries\n",
    "\n",
    "- pyodbc — for SQL Server\n",
    "- mysql — for MySQL\n",
    "- psycopg2 — for PostgreSQL\n"
   ]
  },
  {
   "cell_type": "code",
   "execution_count": 8,
   "metadata": {},
   "outputs": [],
   "source": [
    "%load_ext sql\n"
   ]
  },
  {
   "cell_type": "code",
   "execution_count": 9,
   "metadata": {},
   "outputs": [],
   "source": [
    "%sql sqlite://\n"
   ]
  },
  {
   "cell_type": "code",
   "execution_count": 13,
   "metadata": {},
   "outputs": [
    {
     "name": "stdout",
     "output_type": "stream",
     "text": [
      " * sqlite://\n",
      "Done.\n",
      "6 rows affected.\n"
     ]
    },
    {
     "data": {
      "text/plain": [
       "[]"
      ]
     },
     "execution_count": 13,
     "metadata": {},
     "output_type": "execute_result"
    }
   ],
   "source": [
    "%%sql\n",
    "CREATE TABLE sales\n",
    "(\n",
    "    key       varchar(6),\n",
    "    ts        timestamp,\n",
    "    product   integer,\n",
    "    completed boolean,\n",
    "    price     float\n",
    ");\n",
    "INSERT INTO sales\n",
    "VALUES ('sale_1', '2019-11-08 00:00', 0, TRUE, 1.1),\n",
    "       ('sale_2', '2019-11-08 01:00', 0, FALSE, 1.2),\n",
    "       ('sale_3', '2019-11-08 01:00', 0, TRUE, 1.3),\n",
    "       ('sale_4', '2019-11-08 01:00', 1, FALSE, 1.4),\n",
    "       ('sale_5', '2019-11-08 02:00', 1, TRUE, 1.5),\n",
    "       ('sale_6', '2019-11-08 02:00', 1, TRUE, 1.5);"
   ]
  },
  {
   "cell_type": "code",
   "execution_count": 14,
   "metadata": {},
   "outputs": [
    {
     "name": "stdout",
     "output_type": "stream",
     "text": [
      " * sqlite://\n",
      "Done.\n"
     ]
    },
    {
     "data": {
      "text/html": [
       "<table>\n",
       "    <thead>\n",
       "        <tr>\n",
       "            <th>key</th>\n",
       "            <th>ts</th>\n",
       "            <th>product</th>\n",
       "            <th>completed</th>\n",
       "            <th>price</th>\n",
       "        </tr>\n",
       "    </thead>\n",
       "    <tbody>\n",
       "        <tr>\n",
       "            <td>sale_1</td>\n",
       "            <td>2019-11-08 00:00</td>\n",
       "            <td>0</td>\n",
       "            <td>1</td>\n",
       "            <td>1.1</td>\n",
       "        </tr>\n",
       "        <tr>\n",
       "            <td>sale_2</td>\n",
       "            <td>2019-11-08 01:00</td>\n",
       "            <td>0</td>\n",
       "            <td>0</td>\n",
       "            <td>1.2</td>\n",
       "        </tr>\n",
       "        <tr>\n",
       "            <td>sale_3</td>\n",
       "            <td>2019-11-08 01:00</td>\n",
       "            <td>0</td>\n",
       "            <td>1</td>\n",
       "            <td>1.3</td>\n",
       "        </tr>\n",
       "        <tr>\n",
       "            <td>sale_4</td>\n",
       "            <td>2019-11-08 01:00</td>\n",
       "            <td>1</td>\n",
       "            <td>0</td>\n",
       "            <td>1.4</td>\n",
       "        </tr>\n",
       "        <tr>\n",
       "            <td>sale_5</td>\n",
       "            <td>2019-11-08 02:00</td>\n",
       "            <td>1</td>\n",
       "            <td>1</td>\n",
       "            <td>1.5</td>\n",
       "        </tr>\n",
       "        <tr>\n",
       "            <td>sale_6</td>\n",
       "            <td>2019-11-08 02:00</td>\n",
       "            <td>1</td>\n",
       "            <td>1</td>\n",
       "            <td>1.5</td>\n",
       "        </tr>\n",
       "    </tbody>\n",
       "</table>"
      ],
      "text/plain": [
       "[('sale_1', '2019-11-08 00:00', 0, 1, 1.1),\n",
       " ('sale_2', '2019-11-08 01:00', 0, 0, 1.2),\n",
       " ('sale_3', '2019-11-08 01:00', 0, 1, 1.3),\n",
       " ('sale_4', '2019-11-08 01:00', 1, 0, 1.4),\n",
       " ('sale_5', '2019-11-08 02:00', 1, 1, 1.5),\n",
       " ('sale_6', '2019-11-08 02:00', 1, 1, 1.5)]"
      ]
     },
     "execution_count": 14,
     "metadata": {},
     "output_type": "execute_result"
    }
   ],
   "source": [
    "%%sql\n",
    "\n",
    "SELECT * FROM sales"
   ]
  },
  {
   "cell_type": "code",
   "execution_count": null,
   "metadata": {},
   "outputs": [],
   "source": [
    "#\n"
   ]
  }
 ],
 "metadata": {
  "kernelspec": {
   "display_name": "Python 3",
   "language": "python",
   "name": "python3"
  },
  "language_info": {
   "codemirror_mode": {
    "name": "ipython",
    "version": 3
   },
   "file_extension": ".py",
   "mimetype": "text/x-python",
   "name": "python",
   "nbconvert_exporter": "python",
   "pygments_lexer": "ipython3",
   "version": "3.9.6"
  }
 },
 "nbformat": 4,
 "nbformat_minor": 2
}
