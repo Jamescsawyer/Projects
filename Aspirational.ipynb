{
 "cells": [
  {
   "cell_type": "code",
   "execution_count": null,
   "metadata": {},
   "outputs": [],
   "source": [
    "g"
   ]
  },
  {
   "cell_type": "markdown",
   "metadata": {},
   "source": [
    "Aspirational - things I want to be able to do easily"
   ]
  },
  {
   "cell_type": "markdown",
   "metadata": {},
   "source": [
    "1. Convert dates easily\n",
    "2. Loop through basic data structures \n",
    "3. Write basic algorithms \n",
    "4. Replicate data science research\n",
    "5. "
   ]
  },
  {
   "cell_type": "markdown",
   "metadata": {},
   "source": [
    "Quiz questions\n",
    "\n",
    "- What does the aggregate function do?\n",
    "- Which two functions can be used to create tables - one in conjunction with the .agg() function?\n",
    "- What is the difference between a method and a function or a datatype?\n",
    "- Set indexes and subset rows and columns using loc and iloc\n",
    "    - Do this for dates\n",
    "- Use Boolean conditions to subset temperatures for rows in 2010 and 2011\n",
    "- Use multiple boolean conditions 3 + to subset the data\n",
    "- Use iloc to select first 4 rows and columns 3-4 \n",
    "- Use iloc to select first 4 rows and columns 3-5 "
   ]
  }
 ],
 "metadata": {
  "kernelspec": {
   "display_name": "Python 3.9.6 64-bit",
   "language": "python",
   "name": "python3"
  },
  "language_info": {
   "name": "python",
   "version": "3.9.6"
  },
  "orig_nbformat": 4,
  "vscode": {
   "interpreter": {
    "hash": "31f2aee4e71d21fbe5cf8b01ff0e069b9275f58929596ceb00d14d90e3e16cd6"
   }
  }
 },
 "nbformat": 4,
 "nbformat_minor": 2
}
