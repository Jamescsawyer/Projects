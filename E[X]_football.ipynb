{
 "cells": [
  {
   "cell_type": "markdown",
   "metadata": {},
   "source": [
    "Coding expected value for an event - start with some basic examples but expand this to a full poker hand. Given X cards and Y set of cards out, what are the set of probabilities\n",
    "\n",
    "\n",
    "μ = Σx * P(x)\n",
    "\n",
    "where:\n",
    "\n",
    "x: Data value\n",
    "P(x): Probability of value\n",
    "\n",
    "Example 1: teams scoring a goal\n",
    "\n",
    "X                           P(x)\n",
    "\n",
    "0                           0.18  \n",
    "1                           0.34\n",
    "2                           0.35\n",
    "3                           0.11\n",
    "4                           0.02"
   ]
  },
  {
   "cell_type": "code",
   "execution_count": 3,
   "metadata": {},
   "outputs": [],
   "source": [
    "# import packages\n",
    "\n",
    "import numpy as np\n",
    "import pandas as pd"
   ]
  },
  {
   "cell_type": "code",
   "execution_count": 4,
   "metadata": {},
   "outputs": [],
   "source": [
    "# initiate values\n",
    "\n",
    "values_X = np.array([0,1,2,3,4])\n",
    "probability_pX = np.array([0.18,0.34,0.35,0.11,0.02])"
   ]
  },
  {
   "cell_type": "code",
   "execution_count": 7,
   "metadata": {},
   "outputs": [],
   "source": [
    "# define the function\n",
    "\n",
    "def expected_prob_calculator(X, Y):\n",
    "    return(X*Y)"
   ]
  },
  {
   "cell_type": "code",
   "execution_count": 9,
   "metadata": {},
   "outputs": [
    {
     "data": {
      "text/plain": [
       "1.4500000000000002"
      ]
     },
     "execution_count": 9,
     "metadata": {},
     "output_type": "execute_result"
    }
   ],
   "source": [
    "# execute functions \n",
    "\n",
    "sum(expected_prob_calculator(values_X, probability_pX))"
   ]
  }
 ],
 "metadata": {
  "kernelspec": {
   "display_name": "Python 3.9.6 64-bit",
   "language": "python",
   "name": "python3"
  },
  "language_info": {
   "codemirror_mode": {
    "name": "ipython",
    "version": 3
   },
   "file_extension": ".py",
   "mimetype": "text/x-python",
   "name": "python",
   "nbconvert_exporter": "python",
   "pygments_lexer": "ipython3",
   "version": "3.9.6"
  },
  "orig_nbformat": 4,
  "vscode": {
   "interpreter": {
    "hash": "31f2aee4e71d21fbe5cf8b01ff0e069b9275f58929596ceb00d14d90e3e16cd6"
   }
  }
 },
 "nbformat": 4,
 "nbformat_minor": 2
}
